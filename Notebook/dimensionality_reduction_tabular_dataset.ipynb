{
  "nbformat": 4,
  "nbformat_minor": 0,
  "metadata": {
    "colab": {
      "name": "dimensionality-reduction-tabular-dataset.ipynb",
      "provenance": [],
      "collapsed_sections": []
    },
    "kernelspec": {
      "name": "python3",
      "display_name": "Python 3"
    },
    "language_info": {
      "name": "python"
    }
  },
  "cells": [
    {
      "cell_type": "markdown",
      "metadata": {
        "id": "nEAkRNK4Ttbv"
      },
      "source": [
        "**Objective:**\n",
        "\n",
        "Demonstrate various dimensionality reduction techniques\n",
        "\n",
        "**Dataset:** \n",
        "\n",
        "Titanic Survivor Dataset\n",
        "\n",
        "Titanic Survivor Dataset contains tabular data with name, gender and other info of the survivors of the Titanic.\n",
        "\n",
        "**Dimensionality Reduction Techniques:**\n",
        "\n",
        "i) PCA\n",
        "\n",
        "ii) SVD\n",
        "\n",
        "iii) LLE\n",
        "\n",
        "iv) t-SNE\n",
        "\n",
        "v) ISOMAP\n",
        "\n",
        "vi) UMAP"
      ]
    },
    {
      "cell_type": "code",
      "metadata": {
        "colab": {
          "base_uri": "https://localhost:8080/"
        },
        "id": "9RqbBYacdmrq",
        "outputId": "4341f99c-0d0c-46d9-8ecd-0211cd5bb939"
      },
      "source": [
        "! pip install umap-learn"
      ],
      "execution_count": 1,
      "outputs": [
        {
          "output_type": "stream",
          "name": "stdout",
          "text": [
            "Collecting umap-learn\n",
            "  Downloading umap-learn-0.5.2.tar.gz (86 kB)\n",
            "\u001b[K     |████████████████████████████████| 86 kB 2.6 MB/s \n",
            "\u001b[?25hRequirement already satisfied: numpy>=1.17 in /usr/local/lib/python3.7/dist-packages (from umap-learn) (1.19.5)\n",
            "Requirement already satisfied: scikit-learn>=0.22 in /usr/local/lib/python3.7/dist-packages (from umap-learn) (0.22.2.post1)\n",
            "Requirement already satisfied: scipy>=1.0 in /usr/local/lib/python3.7/dist-packages (from umap-learn) (1.4.1)\n",
            "Requirement already satisfied: numba>=0.49 in /usr/local/lib/python3.7/dist-packages (from umap-learn) (0.51.2)\n",
            "Collecting pynndescent>=0.5\n",
            "  Downloading pynndescent-0.5.5.tar.gz (1.1 MB)\n",
            "\u001b[K     |████████████████████████████████| 1.1 MB 11.2 MB/s \n",
            "\u001b[?25hRequirement already satisfied: tqdm in /usr/local/lib/python3.7/dist-packages (from umap-learn) (4.62.3)\n",
            "Requirement already satisfied: setuptools in /usr/local/lib/python3.7/dist-packages (from numba>=0.49->umap-learn) (57.4.0)\n",
            "Requirement already satisfied: llvmlite<0.35,>=0.34.0.dev0 in /usr/local/lib/python3.7/dist-packages (from numba>=0.49->umap-learn) (0.34.0)\n",
            "Requirement already satisfied: joblib>=0.11 in /usr/local/lib/python3.7/dist-packages (from pynndescent>=0.5->umap-learn) (1.1.0)\n",
            "Building wheels for collected packages: umap-learn, pynndescent\n",
            "  Building wheel for umap-learn (setup.py) ... \u001b[?25l\u001b[?25hdone\n",
            "  Created wheel for umap-learn: filename=umap_learn-0.5.2-py3-none-any.whl size=82709 sha256=4c385d76508b09768ac99d0c95c33f8e9dc383229ea13f71f5b4deb95f43ea74\n",
            "  Stored in directory: /root/.cache/pip/wheels/84/1b/c6/aaf68a748122632967cef4dffef68224eb16798b6793257d82\n",
            "  Building wheel for pynndescent (setup.py) ... \u001b[?25l\u001b[?25hdone\n",
            "  Created wheel for pynndescent: filename=pynndescent-0.5.5-py3-none-any.whl size=52603 sha256=642afaf1c887acdfd9c711b2f632603bb6a0328e5912a77ce8b3386a96317377\n",
            "  Stored in directory: /root/.cache/pip/wheels/af/e9/33/04db1436df0757c42fda8ea6796d7a8586e23c85fac355f476\n",
            "Successfully built umap-learn pynndescent\n",
            "Installing collected packages: pynndescent, umap-learn\n",
            "Successfully installed pynndescent-0.5.5 umap-learn-0.5.2\n"
          ]
        }
      ]
    },
    {
      "cell_type": "code",
      "metadata": {
        "colab": {
          "base_uri": "https://localhost:8080/"
        },
        "id": "NZONEeFF3gkE",
        "outputId": "7d6bf3f0-3fa7-478c-d360-c8fa698f0536"
      },
      "source": [
        "! pip install ipython-autotime"
      ],
      "execution_count": 2,
      "outputs": [
        {
          "output_type": "stream",
          "name": "stdout",
          "text": [
            "Collecting ipython-autotime\n",
            "  Downloading ipython_autotime-0.3.1-py2.py3-none-any.whl (6.8 kB)\n",
            "Requirement already satisfied: ipython in /usr/local/lib/python3.7/dist-packages (from ipython-autotime) (5.5.0)\n",
            "Requirement already satisfied: decorator in /usr/local/lib/python3.7/dist-packages (from ipython->ipython-autotime) (4.4.2)\n",
            "Requirement already satisfied: pygments in /usr/local/lib/python3.7/dist-packages (from ipython->ipython-autotime) (2.6.1)\n",
            "Requirement already satisfied: pexpect in /usr/local/lib/python3.7/dist-packages (from ipython->ipython-autotime) (4.8.0)\n",
            "Requirement already satisfied: simplegeneric>0.8 in /usr/local/lib/python3.7/dist-packages (from ipython->ipython-autotime) (0.8.1)\n",
            "Requirement already satisfied: prompt-toolkit<2.0.0,>=1.0.4 in /usr/local/lib/python3.7/dist-packages (from ipython->ipython-autotime) (1.0.18)\n",
            "Requirement already satisfied: setuptools>=18.5 in /usr/local/lib/python3.7/dist-packages (from ipython->ipython-autotime) (57.4.0)\n",
            "Requirement already satisfied: pickleshare in /usr/local/lib/python3.7/dist-packages (from ipython->ipython-autotime) (0.7.5)\n",
            "Requirement already satisfied: traitlets>=4.2 in /usr/local/lib/python3.7/dist-packages (from ipython->ipython-autotime) (5.1.1)\n",
            "Requirement already satisfied: six>=1.9.0 in /usr/local/lib/python3.7/dist-packages (from prompt-toolkit<2.0.0,>=1.0.4->ipython->ipython-autotime) (1.15.0)\n",
            "Requirement already satisfied: wcwidth in /usr/local/lib/python3.7/dist-packages (from prompt-toolkit<2.0.0,>=1.0.4->ipython->ipython-autotime) (0.2.5)\n",
            "Requirement already satisfied: ptyprocess>=0.5 in /usr/local/lib/python3.7/dist-packages (from pexpect->ipython->ipython-autotime) (0.7.0)\n",
            "Installing collected packages: ipython-autotime\n",
            "Successfully installed ipython-autotime-0.3.1\n"
          ]
        }
      ]
    },
    {
      "cell_type": "code",
      "metadata": {
        "colab": {
          "base_uri": "https://localhost:8080/"
        },
        "id": "NGZTV-Ym3qDb",
        "outputId": "7c79093b-caed-4a62-a0e3-25bffdd52e0f"
      },
      "source": [
        "# load time of execution for each block\n",
        "%load_ext autotime"
      ],
      "execution_count": 3,
      "outputs": [
        {
          "output_type": "stream",
          "name": "stdout",
          "text": [
            "time: 125 µs (started: 2021-11-10 06:11:22 +00:00)\n"
          ]
        }
      ]
    },
    {
      "cell_type": "code",
      "metadata": {
        "id": "qwpRT7OjSP7i",
        "colab": {
          "base_uri": "https://localhost:8080/"
        },
        "outputId": "b9846478-cf6f-4e7f-8661-0d02960e2150"
      },
      "source": [
        "import os\n",
        "import numpy as np\n",
        "import pandas as pd\n",
        "\n",
        "from sklearn import preprocessing\n",
        "from sklearn.preprocessing import MinMaxScaler\n",
        "from numpy import linalg as LA\n",
        "from scipy import optimize\n",
        "\n",
        "import umap.umap_ as umap\n",
        "from sklearn.manifold import TSNE\n",
        "from sklearn.decomposition import PCA, TruncatedSVD\n",
        "from sklearn.discriminant_analysis import LinearDiscriminantAnalysis as LDA\n",
        "from sklearn.manifold import LocallyLinearEmbedding\n",
        "from sklearn.manifold import Isomap\n",
        "\n",
        "from matplotlib import pyplot as plt\n",
        "import imageio\n",
        "import tqdm\n",
        "\n",
        "import seaborn as sns\n",
        "%matplotlib inline"
      ],
      "execution_count": 4,
      "outputs": [
        {
          "output_type": "stream",
          "name": "stdout",
          "text": [
            "time: 24.8 s (started: 2021-11-10 06:11:27 +00:00)\n"
          ]
        }
      ]
    },
    {
      "cell_type": "code",
      "metadata": {
        "colab": {
          "base_uri": "https://localhost:8080/"
        },
        "id": "f42_cXZxZ0r5",
        "outputId": "00bc1243-374f-42e5-f61e-2e83bfc7946f"
      },
      "source": [
        "#url = 'https://pkgstore.datahub.io/core/s-and-p-500-companies-financials/constituents-financials/archive/8e571d9a5791c6355cd5ef8455d56920/constituents-financials.csv'\n",
        "url = 'https://raw.githubusercontent.com/prajaktajoshi2390/data-cleaning-and-preprocessing/main/dataset/titanic-survivor-datasets.csv'\n",
        "df = pd.read_csv(url)"
      ],
      "execution_count": 5,
      "outputs": [
        {
          "output_type": "stream",
          "name": "stdout",
          "text": [
            "time: 257 ms (started: 2021-11-10 06:11:55 +00:00)\n"
          ]
        }
      ]
    },
    {
      "cell_type": "code",
      "metadata": {
        "colab": {
          "base_uri": "https://localhost:8080/",
          "height": 559
        },
        "id": "0pPvuUxh3tPx",
        "outputId": "96650a45-b45d-41b0-ea03-d64e2ff980e3"
      },
      "source": [
        "!pip install category_encoders\n",
        "\n",
        "import category_encoders as cat_encoder\n",
        "\n",
        "columns_encoded = ['Sex', 'Embarked']\n",
        "one_hot_enc = cat_encoder.OneHotEncoder(cols=columns_encoded)\n",
        "df = one_hot_enc.fit_transform(df)\n",
        "df.head()"
      ],
      "execution_count": 6,
      "outputs": [
        {
          "output_type": "stream",
          "name": "stdout",
          "text": [
            "Collecting category_encoders\n",
            "  Downloading category_encoders-2.3.0-py2.py3-none-any.whl (82 kB)\n",
            "\u001b[?25l\r\u001b[K     |████                            | 10 kB 22.4 MB/s eta 0:00:01\r\u001b[K     |████████                        | 20 kB 27.2 MB/s eta 0:00:01\r\u001b[K     |████████████                    | 30 kB 12.0 MB/s eta 0:00:01\r\u001b[K     |████████████████                | 40 kB 9.2 MB/s eta 0:00:01\r\u001b[K     |████████████████████            | 51 kB 5.1 MB/s eta 0:00:01\r\u001b[K     |████████████████████████        | 61 kB 5.4 MB/s eta 0:00:01\r\u001b[K     |████████████████████████████    | 71 kB 5.4 MB/s eta 0:00:01\r\u001b[K     |███████████████████████████████▉| 81 kB 6.1 MB/s eta 0:00:01\r\u001b[K     |████████████████████████████████| 82 kB 349 kB/s \n",
            "\u001b[?25hRequirement already satisfied: patsy>=0.5.1 in /usr/local/lib/python3.7/dist-packages (from category_encoders) (0.5.2)\n",
            "Requirement already satisfied: scikit-learn>=0.20.0 in /usr/local/lib/python3.7/dist-packages (from category_encoders) (0.22.2.post1)\n",
            "Requirement already satisfied: statsmodels>=0.9.0 in /usr/local/lib/python3.7/dist-packages (from category_encoders) (0.10.2)\n",
            "Requirement already satisfied: scipy>=1.0.0 in /usr/local/lib/python3.7/dist-packages (from category_encoders) (1.4.1)\n",
            "Requirement already satisfied: pandas>=0.21.1 in /usr/local/lib/python3.7/dist-packages (from category_encoders) (1.1.5)\n",
            "Requirement already satisfied: numpy>=1.14.0 in /usr/local/lib/python3.7/dist-packages (from category_encoders) (1.19.5)\n",
            "Requirement already satisfied: python-dateutil>=2.7.3 in /usr/local/lib/python3.7/dist-packages (from pandas>=0.21.1->category_encoders) (2.8.2)\n",
            "Requirement already satisfied: pytz>=2017.2 in /usr/local/lib/python3.7/dist-packages (from pandas>=0.21.1->category_encoders) (2018.9)\n",
            "Requirement already satisfied: six in /usr/local/lib/python3.7/dist-packages (from patsy>=0.5.1->category_encoders) (1.15.0)\n",
            "Requirement already satisfied: joblib>=0.11 in /usr/local/lib/python3.7/dist-packages (from scikit-learn>=0.20.0->category_encoders) (1.1.0)\n",
            "Installing collected packages: category-encoders\n",
            "Successfully installed category-encoders-2.3.0\n"
          ]
        },
        {
          "output_type": "stream",
          "name": "stderr",
          "text": [
            "/usr/local/lib/python3.7/dist-packages/statsmodels/tools/_testing.py:19: FutureWarning: pandas.util.testing is deprecated. Use the functions in the public API at pandas.testing instead.\n",
            "  import pandas.util.testing as tm\n"
          ]
        },
        {
          "output_type": "execute_result",
          "data": {
            "text/html": [
              "<div>\n",
              "<style scoped>\n",
              "    .dataframe tbody tr th:only-of-type {\n",
              "        vertical-align: middle;\n",
              "    }\n",
              "\n",
              "    .dataframe tbody tr th {\n",
              "        vertical-align: top;\n",
              "    }\n",
              "\n",
              "    .dataframe thead th {\n",
              "        text-align: right;\n",
              "    }\n",
              "</style>\n",
              "<table border=\"1\" class=\"dataframe\">\n",
              "  <thead>\n",
              "    <tr style=\"text-align: right;\">\n",
              "      <th></th>\n",
              "      <th>PassengerId</th>\n",
              "      <th>Survived</th>\n",
              "      <th>Pclass</th>\n",
              "      <th>Name</th>\n",
              "      <th>Sex_1</th>\n",
              "      <th>Sex_2</th>\n",
              "      <th>Age</th>\n",
              "      <th>SibSp</th>\n",
              "      <th>Parch</th>\n",
              "      <th>Ticket</th>\n",
              "      <th>Fare</th>\n",
              "      <th>Cabin</th>\n",
              "      <th>Embarked_1</th>\n",
              "      <th>Embarked_2</th>\n",
              "      <th>Embarked_3</th>\n",
              "      <th>Embarked_4</th>\n",
              "    </tr>\n",
              "  </thead>\n",
              "  <tbody>\n",
              "    <tr>\n",
              "      <th>0</th>\n",
              "      <td>1</td>\n",
              "      <td>0</td>\n",
              "      <td>3</td>\n",
              "      <td>Braund, Mr. Owen Harris</td>\n",
              "      <td>1</td>\n",
              "      <td>0</td>\n",
              "      <td>22.0</td>\n",
              "      <td>1</td>\n",
              "      <td>0</td>\n",
              "      <td>A/5 21171</td>\n",
              "      <td>7.2500</td>\n",
              "      <td>NaN</td>\n",
              "      <td>1</td>\n",
              "      <td>0</td>\n",
              "      <td>0</td>\n",
              "      <td>0</td>\n",
              "    </tr>\n",
              "    <tr>\n",
              "      <th>1</th>\n",
              "      <td>2</td>\n",
              "      <td>1</td>\n",
              "      <td>1</td>\n",
              "      <td>Cumings, Mrs. John Bradley (Florence Briggs Th...</td>\n",
              "      <td>0</td>\n",
              "      <td>1</td>\n",
              "      <td>38.0</td>\n",
              "      <td>1</td>\n",
              "      <td>0</td>\n",
              "      <td>PC 17599</td>\n",
              "      <td>71.2833</td>\n",
              "      <td>C85</td>\n",
              "      <td>0</td>\n",
              "      <td>1</td>\n",
              "      <td>0</td>\n",
              "      <td>0</td>\n",
              "    </tr>\n",
              "    <tr>\n",
              "      <th>2</th>\n",
              "      <td>3</td>\n",
              "      <td>1</td>\n",
              "      <td>3</td>\n",
              "      <td>Heikkinen, Miss. Laina</td>\n",
              "      <td>0</td>\n",
              "      <td>1</td>\n",
              "      <td>26.0</td>\n",
              "      <td>0</td>\n",
              "      <td>0</td>\n",
              "      <td>STON/O2. 3101282</td>\n",
              "      <td>7.9250</td>\n",
              "      <td>NaN</td>\n",
              "      <td>1</td>\n",
              "      <td>0</td>\n",
              "      <td>0</td>\n",
              "      <td>0</td>\n",
              "    </tr>\n",
              "    <tr>\n",
              "      <th>3</th>\n",
              "      <td>4</td>\n",
              "      <td>1</td>\n",
              "      <td>1</td>\n",
              "      <td>Futrelle, Mrs. Jacques Heath (Lily May Peel)</td>\n",
              "      <td>0</td>\n",
              "      <td>1</td>\n",
              "      <td>35.0</td>\n",
              "      <td>1</td>\n",
              "      <td>0</td>\n",
              "      <td>113803</td>\n",
              "      <td>53.1000</td>\n",
              "      <td>C123</td>\n",
              "      <td>1</td>\n",
              "      <td>0</td>\n",
              "      <td>0</td>\n",
              "      <td>0</td>\n",
              "    </tr>\n",
              "    <tr>\n",
              "      <th>4</th>\n",
              "      <td>5</td>\n",
              "      <td>0</td>\n",
              "      <td>3</td>\n",
              "      <td>Allen, Mr. William Henry</td>\n",
              "      <td>1</td>\n",
              "      <td>0</td>\n",
              "      <td>35.0</td>\n",
              "      <td>0</td>\n",
              "      <td>0</td>\n",
              "      <td>373450</td>\n",
              "      <td>8.0500</td>\n",
              "      <td>NaN</td>\n",
              "      <td>1</td>\n",
              "      <td>0</td>\n",
              "      <td>0</td>\n",
              "      <td>0</td>\n",
              "    </tr>\n",
              "  </tbody>\n",
              "</table>\n",
              "</div>"
            ],
            "text/plain": [
              "   PassengerId  Survived  Pclass  ... Embarked_2  Embarked_3  Embarked_4\n",
              "0            1         0       3  ...          0           0           0\n",
              "1            2         1       1  ...          1           0           0\n",
              "2            3         1       3  ...          0           0           0\n",
              "3            4         1       1  ...          0           0           0\n",
              "4            5         0       3  ...          0           0           0\n",
              "\n",
              "[5 rows x 16 columns]"
            ]
          },
          "metadata": {},
          "execution_count": 6
        },
        {
          "output_type": "stream",
          "name": "stdout",
          "text": [
            "time: 3.92 s (started: 2021-11-10 06:11:57 +00:00)\n"
          ]
        }
      ]
    },
    {
      "cell_type": "code",
      "metadata": {
        "colab": {
          "base_uri": "https://localhost:8080/"
        },
        "id": "QEsECJdltG9W",
        "outputId": "fe80772a-2124-4095-9347-c5ec3172c6b3"
      },
      "source": [
        "list(df.columns)"
      ],
      "execution_count": 7,
      "outputs": [
        {
          "output_type": "execute_result",
          "data": {
            "text/plain": [
              "['PassengerId',\n",
              " 'Survived',\n",
              " 'Pclass',\n",
              " 'Name',\n",
              " 'Sex_1',\n",
              " 'Sex_2',\n",
              " 'Age',\n",
              " 'SibSp',\n",
              " 'Parch',\n",
              " 'Ticket',\n",
              " 'Fare',\n",
              " 'Cabin',\n",
              " 'Embarked_1',\n",
              " 'Embarked_2',\n",
              " 'Embarked_3',\n",
              " 'Embarked_4']"
            ]
          },
          "metadata": {},
          "execution_count": 7
        },
        {
          "output_type": "stream",
          "name": "stdout",
          "text": [
            "time: 6.9 ms (started: 2021-11-10 06:12:05 +00:00)\n"
          ]
        }
      ]
    },
    {
      "cell_type": "code",
      "metadata": {
        "colab": {
          "base_uri": "https://localhost:8080/"
        },
        "id": "FWbzwI8JuTMc",
        "outputId": "b1ccd0a4-853f-472e-f75f-097f3dd1a529"
      },
      "source": [
        "\n",
        "df = df.dropna(how='any')\n",
        "\n",
        "y = df['Survived']\n",
        "metricList = ['Pclass', 'Sex_1', 'Age', 'Fare', 'Embarked_1', 'Embarked_2', 'SibSp', 'Parch']\n",
        "X = df[metricList]"
      ],
      "execution_count": 8,
      "outputs": [
        {
          "output_type": "stream",
          "name": "stdout",
          "text": [
            "time: 14.2 ms (started: 2021-11-10 06:12:07 +00:00)\n"
          ]
        }
      ]
    },
    {
      "cell_type": "code",
      "metadata": {
        "id": "KejqkgFna_Zy",
        "colab": {
          "base_uri": "https://localhost:8080/"
        },
        "outputId": "f6f62726-0ad8-41f5-a3a3-229be070ee19"
      },
      "source": [
        "X_PCA = PCA(n_components=5).fit_transform(X)"
      ],
      "execution_count": 9,
      "outputs": [
        {
          "output_type": "stream",
          "name": "stdout",
          "text": [
            "time: 32.6 ms (started: 2021-11-10 06:12:12 +00:00)\n"
          ]
        }
      ]
    },
    {
      "cell_type": "code",
      "metadata": {
        "colab": {
          "base_uri": "https://localhost:8080/"
        },
        "id": "GR-sZDBz3UHM",
        "outputId": "1cfed2b1-19f1-4102-8fc2-d151f731aafb"
      },
      "source": [
        "X_SVD = TruncatedSVD(n_components = 5).fit_transform(X)"
      ],
      "execution_count": 10,
      "outputs": [
        {
          "output_type": "stream",
          "name": "stdout",
          "text": [
            "time: 14 ms (started: 2021-11-10 06:12:14 +00:00)\n"
          ]
        }
      ]
    },
    {
      "cell_type": "code",
      "metadata": {
        "colab": {
          "base_uri": "https://localhost:8080/"
        },
        "id": "83NWvRFp3_QP",
        "outputId": "412911d4-2cfe-441e-82d4-8490aa87b93b"
      },
      "source": [
        "X_TSNE = TSNE().fit_transform(X)"
      ],
      "execution_count": 11,
      "outputs": [
        {
          "output_type": "stream",
          "name": "stdout",
          "text": [
            "time: 942 ms (started: 2021-11-10 06:12:15 +00:00)\n"
          ]
        }
      ]
    },
    {
      "cell_type": "code",
      "metadata": {
        "colab": {
          "base_uri": "https://localhost:8080/"
        },
        "id": "yK4R3Lef4En5",
        "outputId": "e1303fb3-a1bc-489b-e8e1-c89c77e88fed"
      },
      "source": [
        "X_UMAP = umap.UMAP(n_neighbors=15, min_dist=0.1, metric='correlation').fit_transform(X)"
      ],
      "execution_count": 12,
      "outputs": [
        {
          "output_type": "stream",
          "name": "stderr",
          "text": [
            "/usr/local/lib/python3.7/dist-packages/numba/np/ufunc/parallel.py:363: NumbaWarning: The TBB threading layer requires TBB version 2019.5 or later i.e., TBB_INTERFACE_VERSION >= 11005. Found TBB_INTERFACE_VERSION = 9107. The TBB threading layer is disabled.\n",
            "  warnings.warn(problem)\n"
          ]
        },
        {
          "output_type": "stream",
          "name": "stdout",
          "text": [
            "time: 11 s (started: 2021-11-10 06:12:17 +00:00)\n"
          ]
        }
      ]
    },
    {
      "cell_type": "code",
      "metadata": {
        "id": "Uj8lJMb8ceFZ",
        "colab": {
          "base_uri": "https://localhost:8080/"
        },
        "outputId": "b8d63cbf-acad-4f20-cd8a-f4ad05f617c9"
      },
      "source": [
        "X_LLE = LocallyLinearEmbedding(n_components=5).fit_transform(X)"
      ],
      "execution_count": 13,
      "outputs": [
        {
          "output_type": "stream",
          "name": "stdout",
          "text": [
            "time: 63.5 ms (started: 2021-11-10 06:12:31 +00:00)\n"
          ]
        }
      ]
    },
    {
      "cell_type": "code",
      "metadata": {
        "id": "lx0vZFCfBDdD",
        "colab": {
          "base_uri": "https://localhost:8080/"
        },
        "outputId": "0fdef945-a057-4846-a559-cbc1fca4e0fa"
      },
      "source": [
        "X_ISO = Isomap(n_components=20).fit_transform(X)"
      ],
      "execution_count": 14,
      "outputs": [
        {
          "output_type": "stream",
          "name": "stdout",
          "text": [
            "time: 55.8 ms (started: 2021-11-10 06:12:32 +00:00)\n"
          ]
        }
      ]
    },
    {
      "cell_type": "markdown",
      "metadata": {
        "id": "6HhcIpLs4b0X"
      },
      "source": [
        "**PCA Visualization**"
      ]
    },
    {
      "cell_type": "code",
      "metadata": {
        "colab": {
          "base_uri": "https://localhost:8080/",
          "height": 347
        },
        "id": "Kg3znPWQ4efW",
        "outputId": "9e5fb4bb-e974-48ee-ba9b-711433d25db4"
      },
      "source": [
        "fig = plt.figure(figsize=(10,10))\n",
        "plt.subplot(2,2,1)\n",
        "plt.scatter(X_PCA[:,0], X_PCA[:,1], c=y, cmap='Set1')\n",
        "plt.title(\"Principal Component Analysis\", fontsize=20)\n",
        "plt.xlabel('Principal Comp 1', weight='bold').set_fontsize('10')\n",
        "plt.ylabel('Principal Comp 2', weight='bold').set_fontsize('10')\n",
        "plt.show()"
      ],
      "execution_count": 15,
      "outputs": [
        {
          "output_type": "display_data",
          "data": {
            "image/png": "[encoded data removed]",
            "text/plain": [
              "<Figure size 720x720 with 1 Axes>"
            ]
          },
          "metadata": {
            "needs_background": "light"
          }
        },
        {
          "output_type": "stream",
          "name": "stdout",
          "text": [
            "time: 278 ms (started: 2021-11-10 06:12:39 +00:00)\n"
          ]
        }
      ]
    },
    {
      "cell_type": "markdown",
      "metadata": {
        "id": "IvnWu4RH4wXY"
      },
      "source": [
        "**SVD Visualization**"
      ]
    },
    {
      "cell_type": "code",
      "metadata": {
        "colab": {
          "base_uri": "https://localhost:8080/",
          "height": 347
        },
        "id": "WBAxfhGD4y4H",
        "outputId": "a3ab13ac-9888-447e-b8ef-fb5a2a21500a"
      },
      "source": [
        "fig = plt.figure(figsize=(10,10))\n",
        "plt.subplot(2,2,2)\n",
        "plt.scatter(X_SVD[:,0], X_SVD[:,1], c=y, cmap='Set1')\n",
        "plt.title(\"Singular Value Decomposition\", fontsize=20)\n",
        "plt.xlabel('Principal Comp 1', weight='bold').set_fontsize('10')\n",
        "plt.ylabel('Principal Comp 2', weight='bold').set_fontsize('10')\n",
        "plt.show()"
      ],
      "execution_count": 16,
      "outputs": [
        {
          "output_type": "display_data",
          "data": {
            "image/png": "[encoded data removed]",
            "text/plain": [
              "<Figure size 720x720 with 1 Axes>"
            ]
          },
          "metadata": {
            "needs_background": "light"
          }
        },
        {
          "output_type": "stream",
          "name": "stdout",
          "text": [
            "time: 212 ms (started: 2021-11-10 06:12:47 +00:00)\n"
          ]
        }
      ]
    },
    {
      "cell_type": "markdown",
      "metadata": {
        "id": "iFDu_c8w4-l3"
      },
      "source": [
        "**UMAP Visualization**"
      ]
    },
    {
      "cell_type": "code",
      "metadata": {
        "colab": {
          "base_uri": "https://localhost:8080/",
          "height": 347
        },
        "id": "2AzBbuLt5BD4",
        "outputId": "12f6381b-3f81-46d0-a7cf-70f6ef2ae80c"
      },
      "source": [
        "fig = plt.figure(figsize=(10,10))\n",
        "plt.subplot(2,2,1)\n",
        "plt.scatter(X_UMAP[:,0], X_UMAP[:,1], c=y, cmap='Set1')\n",
        "plt.title(\"Uniform Manifold Approximation and Projections\", fontsize=20)\n",
        "plt.xlabel('Principal Comp 1', weight='bold').set_fontsize('10')\n",
        "plt.ylabel('Principal Comp 2', weight='bold').set_fontsize('10')"
      ],
      "execution_count": 17,
      "outputs": [
        {
          "output_type": "display_data",
          "data": {
            "image/png": "[encoded data removed]",
            "text/plain": [
              "<Figure size 720x720 with 1 Axes>"
            ]
          },
          "metadata": {
            "needs_background": "light"
          }
        },
        {
          "output_type": "stream",
          "name": "stdout",
          "text": [
            "time: 216 ms (started: 2021-11-10 06:12:53 +00:00)\n"
          ]
        }
      ]
    },
    {
      "cell_type": "markdown",
      "metadata": {
        "id": "gj5LZ69t5WNB"
      },
      "source": [
        "**TSNE Visualization**"
      ]
    },
    {
      "cell_type": "code",
      "metadata": {
        "colab": {
          "base_uri": "https://localhost:8080/",
          "height": 347
        },
        "id": "NU-ub444ge7A",
        "outputId": "155ade9f-3b06-426f-a9d8-6e304e563b4a"
      },
      "source": [
        "fig = plt.figure(figsize=(10,10))\n",
        "plt.subplot(2,2,4)\n",
        "plt.scatter(X_TSNE[:,0], X_TSNE[:,1], c=y, cmap='Set1')\n",
        "plt.title(\"t-Distributed Stochastic Neighbor Embedding\", fontsize=20)\n",
        "plt.xlabel('Principal Comp 1', weight='bold').set_fontsize('10')\n",
        "plt.ylabel('Principal Comp 2', weight='bold').set_fontsize('10')\n",
        "plt.show()"
      ],
      "execution_count": 18,
      "outputs": [
        {
          "output_type": "display_data",
          "data": {
            "image/png": "[encoded data removed]",
            "text/plain": [
              "<Figure size 720x720 with 1 Axes>"
            ]
          },
          "metadata": {
            "needs_background": "light"
          }
        },
        {
          "output_type": "stream",
          "name": "stdout",
          "text": [
            "time: 210 ms (started: 2021-11-10 06:12:58 +00:00)\n"
          ]
        }
      ]
    },
    {
      "cell_type": "markdown",
      "metadata": {
        "id": "IWAln3hoWLh7"
      },
      "source": [
        "**LLE Visualization**"
      ]
    },
    {
      "cell_type": "code",
      "metadata": {
        "colab": {
          "base_uri": "https://localhost:8080/",
          "height": 347
        },
        "id": "-SxmfNq1zROF",
        "outputId": "2bfecad5-1bd8-4619-982b-0ad5e6b80ed8"
      },
      "source": [
        "fig = plt.figure(figsize=(10,10))\n",
        "plt.subplot(2,2,1)\n",
        "plt.scatter(X_LLE[:,0], X_LLE[:,1], c=y, cmap='Set1')\n",
        "plt.title(\"Locally Linear Embedding\", fontsize=20)\n",
        "plt.xlabel('Principal Comp 1', weight='bold').set_fontsize('10')\n",
        "plt.ylabel('Principal Comp 2', weight='bold').set_fontsize('10')\n",
        "plt.show()"
      ],
      "execution_count": 19,
      "outputs": [
        {
          "output_type": "display_data",
          "data": {
            "image/png": "[encoded data removed]",
            "text/plain": [
              "<Figure size 720x720 with 1 Axes>"
            ]
          },
          "metadata": {
            "needs_background": "light"
          }
        },
        {
          "output_type": "stream",
          "name": "stdout",
          "text": [
            "time: 188 ms (started: 2021-11-10 06:13:04 +00:00)\n"
          ]
        }
      ]
    },
    {
      "cell_type": "markdown",
      "metadata": {
        "id": "ydEghpHRWWqT"
      },
      "source": [
        "**ISOMAP Visualization**"
      ]
    },
    {
      "cell_type": "code",
      "metadata": {
        "colab": {
          "base_uri": "https://localhost:8080/",
          "height": 347
        },
        "id": "Eq0cXfc1BKRL",
        "outputId": "605450f6-3a0a-45c1-d54c-301a7acf7ea9"
      },
      "source": [
        "fig = plt.figure(figsize=(10,10))\n",
        "plt.subplot(2,2,1)\n",
        "plt.scatter(X_ISO[:,0], X_ISO[:,1], c=y, cmap='Set1')\n",
        "plt.title(\"Isomap Embedding\", fontsize=20)\n",
        "plt.xlabel('Principal Comp 1', weight='bold').set_fontsize('10')\n",
        "plt.ylabel('Principal Comp 2', weight='bold').set_fontsize('10')\n",
        "plt.show()"
      ],
      "execution_count": 20,
      "outputs": [
        {
          "output_type": "display_data",
          "data": {
            "image/png": "[encoded data removed]",
            "text/plain": [
              "<Figure size 720x720 with 1 Axes>"
            ]
          },
          "metadata": {
            "needs_background": "light"
          }
        },
        {
          "output_type": "stream",
          "name": "stdout",
          "text": [
            "time: 191 ms (started: 2021-11-10 06:13:10 +00:00)\n"
          ]
        }
      ]
    },
    {
      "cell_type": "markdown",
      "metadata": {
        "id": "UUx703yBWulG"
      },
      "source": [
        "**Model prediction before dimensionality reduction**"
      ]
    },
    {
      "cell_type": "code",
      "metadata": {
        "id": "5QlLLkohzQ0r",
        "colab": {
          "base_uri": "https://localhost:8080/"
        },
        "outputId": "d8dd5180-5106-4ff6-a694-c02dd7f72307"
      },
      "source": [
        "from sklearn.model_selection import train_test_split\n",
        "from sklearn.neural_network import MLPClassifier\n",
        "from sklearn.metrics import accuracy_score, confusion_matrix"
      ],
      "execution_count": 21,
      "outputs": [
        {
          "output_type": "stream",
          "name": "stdout",
          "text": [
            "time: 26.7 ms (started: 2021-11-10 06:13:16 +00:00)\n"
          ]
        }
      ]
    },
    {
      "cell_type": "code",
      "metadata": {
        "id": "dmb_0Ss3yg36",
        "colab": {
          "base_uri": "https://localhost:8080/"
        },
        "outputId": "f41619b8-a0c7-4325-ebea-4c30814f0076"
      },
      "source": [
        "#X_flat = np.array(X).reshape((2062, 64*64))\n",
        "X_train, X_test, y_train, y_test = train_test_split(X, y, test_size=0.3, random_state=42)"
      ],
      "execution_count": 22,
      "outputs": [
        {
          "output_type": "stream",
          "name": "stdout",
          "text": [
            "time: 5.04 ms (started: 2021-11-10 06:13:18 +00:00)\n"
          ]
        }
      ]
    },
    {
      "cell_type": "code",
      "metadata": {
        "colab": {
          "base_uri": "https://localhost:8080/"
        },
        "id": "R0KHG-HSz-sY",
        "outputId": "29a7ed5d-2840-4db9-8d98-e68332dbd446"
      },
      "source": [
        "clf = MLPClassifier(solver='adam', alpha=1e-5, hidden_layer_sizes=(20, 20, 20), random_state=1)\n",
        "clf.fit(X_train, y_train)\n",
        "y_hat = clf.predict(X_test)\n",
        "\n",
        "print(\"accuracy: \" + str(accuracy_score(y_test, y_hat)))"
      ],
      "execution_count": 23,
      "outputs": [
        {
          "output_type": "stream",
          "name": "stdout",
          "text": [
            "accuracy: 0.5357142857142857\n",
            "time: 58.4 ms (started: 2021-11-10 06:13:19 +00:00)\n"
          ]
        }
      ]
    },
    {
      "cell_type": "markdown",
      "metadata": {
        "id": "NivJKuWuXNkw"
      },
      "source": [
        "**Model prediction after dimensionality reduction**"
      ]
    },
    {
      "cell_type": "code",
      "metadata": {
        "colab": {
          "base_uri": "https://localhost:8080/"
        },
        "id": "FdU-nKU20J5l",
        "outputId": "5f3e81e2-7b6f-4afb-a3b0-03aa6ad519ee"
      },
      "source": [
        "pca_dims = PCA()\n",
        "pca_dims.fit(X_train)\n",
        "pca_cumsum = np.cumsum(pca_dims.explained_variance_ratio_)\n",
        "pca_d = np.argmax(pca_cumsum >= 0.95) + 1\n",
        "pca_d"
      ],
      "execution_count": 24,
      "outputs": [
        {
          "output_type": "execute_result",
          "data": {
            "text/plain": [
              "1"
            ]
          },
          "metadata": {},
          "execution_count": 24
        },
        {
          "output_type": "stream",
          "name": "stdout",
          "text": [
            "time: 16.7 ms (started: 2021-11-10 06:13:25 +00:00)\n"
          ]
        }
      ]
    },
    {
      "cell_type": "code",
      "metadata": {
        "id": "FQbLLlTL0bIu",
        "colab": {
          "base_uri": "https://localhost:8080/"
        },
        "outputId": "645b2109-bdf5-44a6-b1f1-66658202bb02"
      },
      "source": [
        "pca = PCA(n_components=pca_d)\n",
        "pca_X_reduced = pca.fit_transform(X_train)\n",
        "\n",
        "svd = TruncatedSVD(n_components=5)\n",
        "svd_X_reduced = svd.fit_transform(X_train)\n",
        "\n",
        "umap_X_reduced = umap.UMAP(n_neighbors=15, min_dist=0.1, metric='correlation').fit(X_train)"
      ],
      "execution_count": 26,
      "outputs": [
        {
          "output_type": "stream",
          "name": "stdout",
          "text": [
            "time: 4.08 s (started: 2021-11-10 06:13:39 +00:00)\n"
          ]
        }
      ]
    },
    {
      "cell_type": "code",
      "metadata": {
        "colab": {
          "base_uri": "https://localhost:8080/"
        },
        "id": "OFlrmEyU1tfI",
        "outputId": "edc500c1-6f89-4819-c871-3710fbcea3f9"
      },
      "source": [
        "pca_clf_reduced = MLPClassifier(solver='adam', alpha=1e-5, hidden_layer_sizes=(20, 20, 20))\n",
        "pca_clf_reduced.fit(pca_X_reduced, y_train)\n",
        "pca_X_test_reduced = pca.transform(X_test)\n",
        "pca_y_hat_reduced = pca_clf_reduced.predict(pca_X_test_reduced)\n",
        "print(\"pca accuracy: \" + str(accuracy_score(y_test, pca_y_hat_reduced)))\n",
        "\n",
        "\n",
        "svd_clf_reduced = MLPClassifier(solver='adam', alpha=1e-5, hidden_layer_sizes=(20, 20, 20))\n",
        "svd_clf_reduced.fit(svd_X_reduced, y_train)\n",
        "svd_X_test_reduced = svd.transform(X_test)\n",
        "svd_y_hat_reduced = svd_clf_reduced.predict(svd_X_test_reduced)\n",
        "print(\"svd accuracy: \" + str(accuracy_score(y_test, svd_y_hat_reduced)))\n",
        "\n",
        "\n",
        "umap_clf_reduced = MLPClassifier(solver='adam', alpha=1e-5, hidden_layer_sizes=(20, 20, 20))\n",
        "umap_clf_reduced.fit(umap_X_reduced.embedding_, y_train)\n",
        "print(\"umap accuracy: \")\n",
        "umap_clf_reduced.score(umap_X_reduced.transform(X_test), y_test)\n",
        "\n",
        "\n",
        "\n"
      ],
      "execution_count": 27,
      "outputs": [
        {
          "output_type": "stream",
          "name": "stderr",
          "text": [
            "/usr/local/lib/python3.7/dist-packages/sklearn/neural_network/_multilayer_perceptron.py:571: ConvergenceWarning: Stochastic Optimizer: Maximum iterations (200) reached and the optimization hasn't converged yet.\n",
            "  % self.max_iter, ConvergenceWarning)\n"
          ]
        },
        {
          "output_type": "stream",
          "name": "stdout",
          "text": [
            "pca accuracy: 0.5892857142857143\n",
            "svd accuracy: 0.6785714285714286\n",
            "umap accuracy: \n"
          ]
        },
        {
          "output_type": "execute_result",
          "data": {
            "text/plain": [
              "0.5892857142857143"
            ]
          },
          "metadata": {},
          "execution_count": 27
        },
        {
          "output_type": "stream",
          "name": "stdout",
          "text": [
            "time: 7.77 s (started: 2021-11-10 06:13:51 +00:00)\n"
          ]
        }
      ]
    },
    {
      "cell_type": "code",
      "metadata": {
        "colab": {
          "base_uri": "https://localhost:8080/",
          "height": 270
        },
        "id": "P6KNsY6ha82J",
        "outputId": "ce4230af-6e32-4a4c-a8c9-0ea0c1fde92e"
      },
      "source": [
        "!pip install umap\n",
        "import umap"
      ],
      "execution_count": 28,
      "outputs": [
        {
          "output_type": "stream",
          "name": "stdout",
          "text": [
            "Collecting umap\n",
            "  Downloading umap-0.1.1.tar.gz (3.2 kB)\n",
            "Building wheels for collected packages: umap\n",
            "  Building wheel for umap (setup.py) ... \u001b[?25l\u001b[?25hdone\n",
            "  Created wheel for umap: filename=umap-0.1.1-py3-none-any.whl size=3564 sha256=84dbd04b01e930d136fecf329b4252d20cfa9a6f4b9bb479f6a6980a05a6dbd5\n",
            "  Stored in directory: /root/.cache/pip/wheels/65/55/85/945cfb3d67373767e4dc3e9629300a926edde52633df4f0efe\n",
            "Successfully built umap\n",
            "Installing collected packages: umap\n",
            "Successfully installed umap-0.1.1\n"
          ]
        },
        {
          "output_type": "display_data",
          "data": {
            "application/vnd.colab-display-data+json": {
              "pip_warning": {
                "packages": [
                  "umap"
                ]
              }
            }
          },
          "metadata": {}
        },
        {
          "output_type": "stream",
          "name": "stdout",
          "text": [
            "time: 4.78 s (started: 2021-11-10 06:14:01 +00:00)\n"
          ]
        }
      ]
    },
    {
      "cell_type": "code",
      "metadata": {
        "colab": {
          "base_uri": "https://localhost:8080/"
        },
        "id": "22YkMoDOpgCe",
        "outputId": "f76373d3-7cde-4322-beeb-cf8338065deb"
      },
      "source": [
        "from sklearn.manifold import LocallyLinearEmbedding\n",
        "\n",
        "lle = LocallyLinearEmbedding(n_components=pca_d)\n",
        "lle_X_reduced = lle.fit_transform(X_train)\n",
        "\n",
        "lle_clf_reduced = MLPClassifier(solver='adam', alpha=1e-5, hidden_layer_sizes=(20, 20, 20))\n",
        "lle_clf_reduced.fit(lle_X_reduced, y_train)\n",
        "lle_X_test_reduced = lle.transform(X_test)\n",
        "lle_y_hat_reduced = lle_clf_reduced.predict(lle_X_test_reduced)\n",
        "print(\"lle accuracy: \" + str(accuracy_score(y_test, lle_y_hat_reduced)))"
      ],
      "execution_count": 29,
      "outputs": [
        {
          "output_type": "stream",
          "name": "stdout",
          "text": [
            "lle accuracy: 0.5892857142857143\n",
            "time: 175 ms (started: 2021-11-10 06:14:12 +00:00)\n"
          ]
        }
      ]
    },
    {
      "cell_type": "code",
      "metadata": {
        "colab": {
          "base_uri": "https://localhost:8080/"
        },
        "id": "vm4u9BE-xiQV",
        "outputId": "04cdf548-399c-40e6-c530-67802a75d2a0"
      },
      "source": [
        "from sklearn.manifold import Isomap\n",
        "\n",
        "iso = Isomap(n_components=pca_d)\n",
        "iso_X_reduced = iso.fit_transform(X_train)\n",
        "\n",
        "iso_clf_reduced = MLPClassifier(solver='adam', alpha=1e-5, hidden_layer_sizes=(20, 20, 20))\n",
        "iso_clf_reduced.fit(iso_X_reduced, y_train)\n",
        "iso_X_test_reduced = iso.transform(X_test)\n",
        "iso_y_hat_reduced = iso_clf_reduced.predict(iso_X_test_reduced)\n",
        "print(\"iso accuracy: \" + str(accuracy_score(y_test, iso_y_hat_reduced)))"
      ],
      "execution_count": 30,
      "outputs": [
        {
          "output_type": "stream",
          "name": "stdout",
          "text": [
            "iso accuracy: 0.5892857142857143\n",
            "time: 75.8 ms (started: 2021-11-10 06:14:14 +00:00)\n"
          ]
        }
      ]
    },
    {
      "cell_type": "markdown",
      "metadata": {
        "id": "8qn_IawbUXdr"
      },
      "source": [
        "**Analysis:**\n",
        "\n",
        "Here we implemented various dimensionality techniques on the tabular dataset. We observed the performance of different techniques as follows:\n",
        "\n",
        "**Algorithm on Tabular Dataset - Accuracy**\n",
        "\n",
        "PCA\t0.58\n",
        "\n",
        "SVD\t0.68\n",
        "\n",
        "LLE\t0.59\n",
        "\n",
        "ISOMAP\t0.59\n",
        "\n",
        "UMAP\t0.58\n",
        "\n",
        "**Algorithm on Tabular Dataset - Execution Time** \n",
        "\n",
        "PCA\t32.6ms\n",
        "\n",
        "SVD\t14ms\n",
        "\n",
        "LLE\t63.5ms\n",
        "\n",
        "t-SNE\t942ms\n",
        "\n",
        "ISOMAP\t55.8ms\n",
        "\n",
        "UMAP\t11s"
      ]
    }
  ]
}